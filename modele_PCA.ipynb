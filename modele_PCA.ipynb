{
 "cells": [
  {
   "cell_type": "code",
   "execution_count": 4,
   "metadata": {},
   "outputs": [],
   "source": [
    "import numpy as np\n",
    "import pandas as pd\n",
    "import matplotlib.pyplot as plt\n",
    "import seaborn as sns\n",
    "\n",
    "from sklearn.linear_model import LinearRegression\n",
    "from sklearn.ensemble import RandomForestRegressor, GradientBoostingRegressor, StackingRegressor\n",
    "from sklearn.neighbors import KNeighborsRegressor\n",
    "from sklearn.neural_network import MLPRegressor\n",
    "from sklearn.linear_model import ElasticNet, Lasso, Ridge\n",
    "from sklearn.svm import SVR\n",
    "from xgboost import XGBRegressor\n",
    "\n",
    "from sklearn.pipeline import Pipeline\n",
    "from sklearn.preprocessing import StandardScaler\n",
    "from sklearn.decomposition import PCA\n",
    "\n",
    "from sklearn.model_selection import train_test_split, GridSearchCV, RandomizedSearchCV\n",
    "\n",
    "from sklearn.metrics import (\n",
    "    mean_absolute_error,\n",
    "    mean_squared_error,\n",
    "    r2_score,\n",
    "    mean_absolute_percentage_error,\n",
    "    make_scorer\n",
    ")\n"
   ]
  },
  {
   "cell_type": "code",
   "execution_count": null,
   "metadata": {},
   "outputs": [],
   "source": [
    "data = pd.read_csv(\"katowice.csv\")"
   ]
  },
  {
   "cell_type": "code",
   "execution_count": 6,
   "metadata": {},
   "outputs": [],
   "source": [
    "X = data.drop(columns=[\"price\"])\n",
    "y = data[\"price\"]"
   ]
  },
  {
   "cell_type": "code",
   "execution_count": 7,
   "metadata": {},
   "outputs": [],
   "source": [
    "X_train, X_test, y_train, y_test = train_test_split(\n",
    "    X, y, test_size=0.2, random_state=42\n",
    ")\n"
   ]
  },
  {
   "cell_type": "code",
   "execution_count": 8,
   "metadata": {},
   "outputs": [],
   "source": [
    "results_PCA = []"
   ]
  },
  {
   "cell_type": "code",
   "execution_count": null,
   "metadata": {},
   "outputs": [],
   "source": [
    "def evaluate_with_pca(name, model, X_train, X_test, y_train, y_test, use_log_target=False, pca_components=0.90):\n",
    "    \"\"\"\n",
    "    Trenuje i ewaluje model w Pipeline z PCA (bez tuningu).\n",
    "    Zwraca metryki: znormalizowane MAE, RMSE, R² i MAPE.\n",
    "\n",
    "    Parametry:\n",
    "    - name: nazwa modelu (str)\n",
    "    - model: obiekt modelu (np. LinearRegression())\n",
    "    - X_train, X_test, y_train, y_test: dane\n",
    "    - use_log_target: czy logarytmować zmienną celu (bool)\n",
    "    - pca_components: ile składowych PCA (np. 0.95 lub 10)\n",
    "\n",
    "    Zwraca:\n",
    "    - słownik z wynikami do dodania do results_pca\n",
    "    \"\"\"\n",
    "    # Logarytmowanie celu (jeśli trzeba)\n",
    "    if use_log_target:\n",
    "        y_train_fit = np.log1p(y_train)\n",
    "        y_test_eval = np.expm1(np.log1p(y_test))\n",
    "    else:\n",
    "        y_train_fit = y_train\n",
    "        y_test_eval = y_test\n",
    "\n",
    "    # Pipeline: Standaryzacja + PCA + model\n",
    "    pipe = Pipeline([\n",
    "        (\"scaler\", StandardScaler()),\n",
    "        (\"pca\", PCA(n_components=pca_components)), # PCA przekształca dane w nowe cechy\tBy zmniejszyć wymiarowość i korelacje\n",
    "        (\"model\", model)\n",
    "    ])\n",
    "\n",
    "    # Trening\n",
    "    pipe.fit(X_train, y_train_fit)\n",
    "    y_pred = pipe.predict(X_test)\n",
    "\n",
    "    # Odlogarytmowanie (jeśli trzeba)\n",
    "    if use_log_target:\n",
    "        y_pred = np.expm1(y_pred)\n",
    "\n",
    "    mae = mean_absolute_error(y_test_eval, y_pred)\n",
    "    rmse = np.sqrt(mean_squared_error(y_test_eval, y_pred))\n",
    "    r2 = r2_score(y_test_eval, y_pred)\n",
    "    mape = np.mean(np.abs((y_test_eval - y_pred) / y_test_eval)) \n",
    "\n",
    "    mean_price = np.mean(y_test_eval)\n",
    "    mae_norm = mae / mean_price\n",
    "    rmse_norm = rmse / mean_price\n",
    "\n",
    "    print(f\"\\n📊 {name} (z PCA)\")\n",
    "    print(f\"R²: {r2:.4f}\")\n",
    "    print(f\"Znormalizowane MAE: {mae_norm:.4f}\")\n",
    "    print(f\"Znormalizowane RMSE: {rmse_norm:.4f}\")\n",
    "    print(f\"MAPE: {mape:.2f}\")\n",
    "\n",
    "    return {\n",
    "        \"Model\": name + \" (PCA)\",\n",
    "        \"MAE_norm\": mae_norm,\n",
    "        \"RMSE_norm\": rmse_norm,\n",
    "        \"R2\": r2,\n",
    "        \"MAPE\": mape\n",
    "    }\n"
   ]
  },
  {
   "cell_type": "code",
   "execution_count": 10,
   "metadata": {},
   "outputs": [
    {
     "name": "stdout",
     "output_type": "stream",
     "text": [
      "\n",
      "📊 Linear Regression (z PCA)\n",
      "R²: 0.6990\n",
      "Znormalizowane MAE: 0.1531\n",
      "Znormalizowane RMSE: 0.2008\n",
      "MAPE: 0.17\n"
     ]
    }
   ],
   "source": [
    "model = LinearRegression()\n",
    "result = evaluate_with_pca(\"Linear Regression\", model, X_train, X_test, y_train, y_test)\n",
    "results_PCA.append(result)"
   ]
  },
  {
   "cell_type": "code",
   "execution_count": 11,
   "metadata": {},
   "outputs": [
    {
     "name": "stdout",
     "output_type": "stream",
     "text": [
      "\n",
      "📊 kNN (z PCA)\n",
      "R²: 0.6640\n",
      "Znormalizowane MAE: 0.1602\n",
      "Znormalizowane RMSE: 0.2122\n",
      "MAPE: 0.18\n"
     ]
    }
   ],
   "source": [
    "model = KNeighborsRegressor()\n",
    "result = evaluate_with_pca(\"kNN\", model, X_train, X_test, y_train, y_test)\n",
    "results_PCA.append(result)"
   ]
  },
  {
   "cell_type": "code",
   "execution_count": 12,
   "metadata": {},
   "outputs": [
    {
     "name": "stdout",
     "output_type": "stream",
     "text": [
      "\n",
      "📊 MLP (z PCA)\n",
      "R²: -6.9655\n",
      "Znormalizowane MAE: 0.9723\n",
      "Znormalizowane RMSE: 1.0331\n",
      "MAPE: 0.97\n"
     ]
    },
    {
     "name": "stderr",
     "output_type": "stream",
     "text": [
      "c:\\Users\\DELL\\AppData\\Local\\Programs\\Python\\Python312\\Lib\\site-packages\\sklearn\\neural_network\\_multilayer_perceptron.py:690: ConvergenceWarning: Stochastic Optimizer: Maximum iterations (1000) reached and the optimization hasn't converged yet.\n",
      "  warnings.warn(\n"
     ]
    }
   ],
   "source": [
    "model = MLPRegressor(max_iter=1000, random_state=42)\n",
    "result = evaluate_with_pca(\"MLP\", model, X_train, X_test, y_train, y_test)\n",
    "results_PCA.append(result)"
   ]
  },
  {
   "cell_type": "markdown",
   "metadata": {},
   "source": [
    "SVR z logiem"
   ]
  },
  {
   "cell_type": "code",
   "execution_count": 13,
   "metadata": {},
   "outputs": [
    {
     "name": "stdout",
     "output_type": "stream",
     "text": [
      "\n",
      "📊 SVR (z PCA)\n",
      "R²: 0.8035\n",
      "Znormalizowane MAE: 0.1209\n",
      "Znormalizowane RMSE: 0.1622\n",
      "MAPE: 0.13\n"
     ]
    }
   ],
   "source": [
    "from sklearn.svm import SVR\n",
    "\n",
    "model = SVR()\n",
    "result = evaluate_with_pca(\"SVR\", model, X_train, X_test, y_train, y_test, use_log_target=True)\n",
    "results_PCA.append(result)\n"
   ]
  },
  {
   "cell_type": "code",
   "execution_count": 14,
   "metadata": {},
   "outputs": [
    {
     "name": "stdout",
     "output_type": "stream",
     "text": [
      "\n",
      "📊 Random Forest (z PCA)\n",
      "R²: 0.7254\n",
      "Znormalizowane MAE: 0.1363\n",
      "Znormalizowane RMSE: 0.1918\n",
      "MAPE: 0.15\n"
     ]
    }
   ],
   "source": [
    "from sklearn.ensemble import RandomForestRegressor\n",
    "\n",
    "model = RandomForestRegressor(random_state=42)\n",
    "result = evaluate_with_pca(\"Random Forest\", model, X_train, X_test, y_train, y_test)\n",
    "results_PCA.append(result)"
   ]
  },
  {
   "cell_type": "code",
   "execution_count": 15,
   "metadata": {},
   "outputs": [
    {
     "name": "stdout",
     "output_type": "stream",
     "text": [
      "\n",
      "📊 Gradient Boosting (z PCA)\n",
      "R²: 0.7332\n",
      "Znormalizowane MAE: 0.1396\n",
      "Znormalizowane RMSE: 0.1891\n",
      "MAPE: 0.16\n"
     ]
    }
   ],
   "source": [
    "from sklearn.ensemble import GradientBoostingRegressor\n",
    "\n",
    "model = GradientBoostingRegressor(random_state=42)\n",
    "result = evaluate_with_pca(\"Gradient Boosting\", model, X_train, X_test, y_train, y_test)\n",
    "results_PCA.append(result)"
   ]
  },
  {
   "cell_type": "code",
   "execution_count": 16,
   "metadata": {},
   "outputs": [
    {
     "name": "stdout",
     "output_type": "stream",
     "text": [
      "\n",
      "📊 XGBoost (z PCA)\n",
      "R²: 0.7191\n",
      "Znormalizowane MAE: 0.1336\n",
      "Znormalizowane RMSE: 0.1940\n",
      "MAPE: 0.15\n"
     ]
    }
   ],
   "source": [
    "from xgboost import XGBRegressor\n",
    "\n",
    "model = XGBRegressor(random_state=42, verbosity=0)\n",
    "result = evaluate_with_pca(\"XGBoost\", model, X_train, X_test, y_train, y_test)\n",
    "results_PCA.append(result)"
   ]
  },
  {
   "cell_type": "code",
   "execution_count": 17,
   "metadata": {},
   "outputs": [
    {
     "data": {
      "text/html": [
       "<div>\n",
       "<style scoped>\n",
       "    .dataframe tbody tr th:only-of-type {\n",
       "        vertical-align: middle;\n",
       "    }\n",
       "\n",
       "    .dataframe tbody tr th {\n",
       "        vertical-align: top;\n",
       "    }\n",
       "\n",
       "    .dataframe thead th {\n",
       "        text-align: right;\n",
       "    }\n",
       "</style>\n",
       "<table border=\"1\" class=\"dataframe\">\n",
       "  <thead>\n",
       "    <tr style=\"text-align: right;\">\n",
       "      <th></th>\n",
       "      <th>Model</th>\n",
       "      <th>MAE_norm</th>\n",
       "      <th>RMSE_norm</th>\n",
       "      <th>R2</th>\n",
       "      <th>MAPE</th>\n",
       "    </tr>\n",
       "  </thead>\n",
       "  <tbody>\n",
       "    <tr>\n",
       "      <th>0</th>\n",
       "      <td>SVR (PCA)</td>\n",
       "      <td>0.120929</td>\n",
       "      <td>0.162240</td>\n",
       "      <td>0.803547</td>\n",
       "      <td>0.130766</td>\n",
       "    </tr>\n",
       "    <tr>\n",
       "      <th>1</th>\n",
       "      <td>Gradient Boosting (PCA)</td>\n",
       "      <td>0.139620</td>\n",
       "      <td>0.189063</td>\n",
       "      <td>0.733218</td>\n",
       "      <td>0.156433</td>\n",
       "    </tr>\n",
       "    <tr>\n",
       "      <th>2</th>\n",
       "      <td>Random Forest (PCA)</td>\n",
       "      <td>0.136258</td>\n",
       "      <td>0.191798</td>\n",
       "      <td>0.725443</td>\n",
       "      <td>0.154221</td>\n",
       "    </tr>\n",
       "    <tr>\n",
       "      <th>3</th>\n",
       "      <td>XGBoost (PCA)</td>\n",
       "      <td>0.133579</td>\n",
       "      <td>0.193994</td>\n",
       "      <td>0.719120</td>\n",
       "      <td>0.148991</td>\n",
       "    </tr>\n",
       "    <tr>\n",
       "      <th>4</th>\n",
       "      <td>Linear Regression (PCA)</td>\n",
       "      <td>0.153115</td>\n",
       "      <td>0.200812</td>\n",
       "      <td>0.699031</td>\n",
       "      <td>0.166539</td>\n",
       "    </tr>\n",
       "    <tr>\n",
       "      <th>5</th>\n",
       "      <td>kNN (PCA)</td>\n",
       "      <td>0.160162</td>\n",
       "      <td>0.212187</td>\n",
       "      <td>0.663968</td>\n",
       "      <td>0.180011</td>\n",
       "    </tr>\n",
       "    <tr>\n",
       "      <th>6</th>\n",
       "      <td>MLP (PCA)</td>\n",
       "      <td>0.972325</td>\n",
       "      <td>1.033084</td>\n",
       "      <td>-6.965511</td>\n",
       "      <td>0.974691</td>\n",
       "    </tr>\n",
       "  </tbody>\n",
       "</table>\n",
       "</div>"
      ],
      "text/plain": [
       "                     Model  MAE_norm  RMSE_norm        R2      MAPE\n",
       "0                SVR (PCA)  0.120929   0.162240  0.803547  0.130766\n",
       "1  Gradient Boosting (PCA)  0.139620   0.189063  0.733218  0.156433\n",
       "2      Random Forest (PCA)  0.136258   0.191798  0.725443  0.154221\n",
       "3            XGBoost (PCA)  0.133579   0.193994  0.719120  0.148991\n",
       "4  Linear Regression (PCA)  0.153115   0.200812  0.699031  0.166539\n",
       "5                kNN (PCA)  0.160162   0.212187  0.663968  0.180011\n",
       "6                MLP (PCA)  0.972325   1.033084 -6.965511  0.974691"
      ]
     },
     "metadata": {},
     "output_type": "display_data"
    }
   ],
   "source": [
    "results_df = pd.DataFrame(results_PCA)\n",
    "results_df = results_df.sort_values(\"R2\", ascending=False)\n",
    "results_df.reset_index(drop=True, inplace=True)\n",
    "\n",
    "display(results_df)"
   ]
  }
 ],
 "metadata": {
  "kernelspec": {
   "display_name": "Python 3",
   "language": "python",
   "name": "python3"
  },
  "language_info": {
   "codemirror_mode": {
    "name": "ipython",
    "version": 3
   },
   "file_extension": ".py",
   "mimetype": "text/x-python",
   "name": "python",
   "nbconvert_exporter": "python",
   "pygments_lexer": "ipython3",
   "version": "3.12.0"
  }
 },
 "nbformat": 4,
 "nbformat_minor": 2
}
