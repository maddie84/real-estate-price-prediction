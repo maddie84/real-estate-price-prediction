{
 "cells": [
  {
   "cell_type": "code",
   "execution_count": 1,
   "metadata": {},
   "outputs": [],
   "source": [
    "import numpy as np\n",
    "import pandas as pd\n",
    "import matplotlib.pyplot as plt\n",
    "import seaborn as sns\n",
    "\n",
    "from sklearn.linear_model import LinearRegression\n",
    "from sklearn.ensemble import RandomForestRegressor, GradientBoostingRegressor, StackingRegressor\n",
    "from sklearn.neighbors import KNeighborsRegressor\n",
    "from sklearn.neural_network import MLPRegressor\n",
    "from sklearn.svm import SVR\n",
    "from xgboost import XGBRegressor\n",
    "\n",
    "from sklearn.pipeline import Pipeline\n",
    "from sklearn.preprocessing import StandardScaler\n",
    "\n",
    "from sklearn.model_selection import train_test_split, GridSearchCV, RandomizedSearchCV\n",
    "\n",
    "from sklearn.metrics import (\n",
    "    mean_absolute_error,\n",
    "    mean_squared_error,\n",
    "    r2_score,\n",
    "    mean_absolute_percentage_error,\n",
    "    make_scorer\n",
    ")\n"
   ]
  },
  {
   "cell_type": "code",
   "execution_count": null,
   "metadata": {},
   "outputs": [],
   "source": [
    "data = pd.read_csv(\"katowice.csv\")"
   ]
  },
  {
   "cell_type": "code",
   "execution_count": 3,
   "metadata": {},
   "outputs": [],
   "source": [
    "X = data.drop(columns=[\"price\"])\n",
    "y = data[\"price\"]"
   ]
  },
  {
   "cell_type": "code",
   "execution_count": 4,
   "metadata": {},
   "outputs": [],
   "source": [
    "results = []"
   ]
  },
  {
   "cell_type": "code",
   "execution_count": 5,
   "metadata": {},
   "outputs": [],
   "source": [
    "X_train, X_test, y_train, y_test = train_test_split(\n",
    "    X, y, test_size=0.2, random_state=42\n",
    ")"
   ]
  },
  {
   "cell_type": "code",
   "execution_count": 6,
   "metadata": {},
   "outputs": [
    {
     "data": {
      "text/plain": [
       "0       13.212206\n",
       "1       13.120363\n",
       "2       13.066853\n",
       "3       13.752348\n",
       "4       13.761413\n",
       "          ...    \n",
       "1677    12.367345\n",
       "1678    13.082585\n",
       "1679    12.779876\n",
       "1680    13.071072\n",
       "1681    13.079458\n",
       "Name: price, Length: 1682, dtype: float64"
      ]
     },
     "execution_count": 6,
     "metadata": {},
     "output_type": "execute_result"
    }
   ],
   "source": [
    "y_log = np.log1p(y)\n",
    "y_log"
   ]
  },
  {
   "cell_type": "code",
   "execution_count": 7,
   "metadata": {},
   "outputs": [],
   "source": [
    "import numpy as np\n",
    "from sklearn.metrics import mean_absolute_error, mean_squared_error, r2_score, mean_absolute_percentage_error\n",
    "\n",
    "def evaluate_model_log_target(model, X_train, y_train, X_test, y_test):\n",
    "    # 1. Trenowanie na logarytmowanej zmiennej celu\n",
    "    y_train_log = np.log1p(y_train)\n",
    "    model.fit(X_train, y_train_log)\n",
    "    \n",
    "    # 2. Predykcja w przestrzeni logarytmicznej\n",
    "    y_pred_log = model.predict(X_test)\n",
    "\n",
    "    # 3. Odlogowanie predykcji\n",
    "    y_pred = np.expm1(y_pred_log)\n",
    "\n",
    "    # 4. Metryki na oryginalnych danych\n",
    "    mae = mean_absolute_error(y_test, y_pred)\n",
    "    rmse = np.sqrt(mean_squared_error(y_test, y_pred))\n",
    "    r2 = r2_score(y_test, y_pred)\n",
    "    mape = mean_absolute_percentage_error(y_test, y_pred)  # format dziesiętny\n",
    "\n",
    "    # 5. Znormalizowane metryki\n",
    "    mean_price = np.mean(y_test)\n",
    "    mae_norm = mae / mean_price\n",
    "    rmse_norm = rmse / mean_price\n",
    "\n",
    "    print(\"📊 Wyniki modelu (log(price)):\", model.__class__.__name__)\n",
    "    print(f\"R²: {r2:.4f}\")\n",
    "    print(f\"MAPE: {mape:.4f}\")\n",
    "    print(f\"Znormalizowany MAE: {mae_norm:.4f}\")\n",
    "    print(f\"Znormalizowany RMSE: {rmse_norm:.4f}\")\n",
    "\n",
    "    results.append({\n",
    "        \"Model\": model.__class__.__name__ + \" (log)\",\n",
    "        \"MAE\": mae_norm,\n",
    "        \"RMSE\": rmse_norm,\n",
    "        \"R2\": r2,\n",
    "        \"MAPE\": mape\n",
    "    })\n",
    "\n",
    "    return {\n",
    "        \"R2\": r2,\n",
    "        \"MAPE\": mape,\n",
    "        \"MAE_norm\": mae_norm,\n",
    "        \"RMSE_norm\": rmse_norm\n",
    "    }\n"
   ]
  },
  {
   "cell_type": "code",
   "execution_count": 8,
   "metadata": {},
   "outputs": [
    {
     "name": "stdout",
     "output_type": "stream",
     "text": [
      "📊 Wyniki modelu (log(price)): LinearRegression\n",
      "R²: 0.6485\n",
      "MAPE: 0.1475\n",
      "Znormalizowany MAE: 0.1423\n",
      "Znormalizowany RMSE: 0.2170\n"
     ]
    },
    {
     "data": {
      "text/plain": [
       "{'R2': 0.6485455398802242,\n",
       " 'MAPE': 0.14747181744891905,\n",
       " 'MAE_norm': 0.14233137099395057,\n",
       " 'RMSE_norm': 0.21700174917751142}"
      ]
     },
     "execution_count": 8,
     "metadata": {},
     "output_type": "execute_result"
    }
   ],
   "source": [
    "model = LinearRegression()\n",
    "evaluate_model_log_target(model, X_train, y_train, X_test, y_test)"
   ]
  },
  {
   "cell_type": "code",
   "execution_count": 9,
   "metadata": {},
   "outputs": [
    {
     "name": "stdout",
     "output_type": "stream",
     "text": [
      "📊 Wyniki modelu (log(price)): RandomForestRegressor\n",
      "R²: 0.7782\n",
      "MAPE: 0.1155\n",
      "Znormalizowany MAE: 0.1109\n",
      "Znormalizowany RMSE: 0.1724\n"
     ]
    },
    {
     "data": {
      "text/plain": [
       "{'R2': 0.778197046716264,\n",
       " 'MAPE': 0.1154958649072625,\n",
       " 'MAE_norm': 0.11086939936938313,\n",
       " 'RMSE_norm': 0.1723901181209495}"
      ]
     },
     "execution_count": 9,
     "metadata": {},
     "output_type": "execute_result"
    }
   ],
   "source": [
    "model_rf = RandomForestRegressor()\n",
    "evaluate_model_log_target(model_rf, X_train, y_train, X_test, y_test)"
   ]
  },
  {
   "cell_type": "code",
   "execution_count": 10,
   "metadata": {},
   "outputs": [
    {
     "name": "stdout",
     "output_type": "stream",
     "text": [
      "📊 Wyniki modelu (log(price)): GradientBoostingRegressor\n",
      "R²: 0.8279\n",
      "MAPE: 0.1075\n",
      "Znormalizowany MAE: 0.1038\n",
      "Znormalizowany RMSE: 0.1518\n"
     ]
    }
   ],
   "source": [
    "model_gb = GradientBoostingRegressor(n_estimators=200, learning_rate=0.1, max_depth=4, random_state=42)\n",
    "results_gb = evaluate_model_log_target(model_gb, X_train, y_train, X_test, y_test)"
   ]
  },
  {
   "cell_type": "code",
   "execution_count": 11,
   "metadata": {},
   "outputs": [
    {
     "name": "stdout",
     "output_type": "stream",
     "text": [
      "📊 Wyniki modelu (log(price)): XGBRegressor\n",
      "R²: 0.8109\n",
      "MAPE: 0.1087\n",
      "Znormalizowany MAE: 0.1046\n",
      "Znormalizowany RMSE: 0.1592\n"
     ]
    }
   ],
   "source": [
    "model_xgb = XGBRegressor(n_estimators=200, learning_rate=0.1, max_depth=6, random_state=42)\n",
    "results_xgb = evaluate_model_log_target(model_xgb, X_train, y_train, X_test, y_test)"
   ]
  },
  {
   "cell_type": "code",
   "execution_count": 12,
   "metadata": {},
   "outputs": [
    {
     "name": "stdout",
     "output_type": "stream",
     "text": [
      "📊 Wyniki modelu (log(price)): KNeighborsRegressor\n",
      "R²: 0.7292\n",
      "MAPE: 0.1556\n",
      "Znormalizowany MAE: 0.1435\n",
      "Znormalizowany RMSE: 0.1905\n"
     ]
    }
   ],
   "source": [
    "model_knn = KNeighborsRegressor()\n",
    "results_knn = evaluate_model_log_target(model_knn, X_train, y_train, X_test, y_test)"
   ]
  },
  {
   "cell_type": "code",
   "execution_count": 13,
   "metadata": {},
   "outputs": [],
   "source": [
    "scaler = StandardScaler()\n",
    "X_train_scaled = scaler.fit_transform(X_train)\n",
    "X_test_scaled = scaler.transform(X_test)"
   ]
  },
  {
   "cell_type": "code",
   "execution_count": 14,
   "metadata": {},
   "outputs": [
    {
     "name": "stdout",
     "output_type": "stream",
     "text": [
      "📊 Wyniki modelu (log(price)): SVR\n",
      "R²: 0.7915\n",
      "MAPE: 0.1338\n",
      "Znormalizowany MAE: 0.1222\n",
      "Znormalizowany RMSE: 0.1671\n"
     ]
    }
   ],
   "source": [
    "svr = SVR(kernel='rbf', C=100, gamma='scale', epsilon=0.1)\n",
    "results_svr = evaluate_model_log_target(svr, X_train_scaled, y_train, X_test_scaled, y_test)"
   ]
  },
  {
   "cell_type": "code",
   "execution_count": 15,
   "metadata": {},
   "outputs": [
    {
     "name": "stdout",
     "output_type": "stream",
     "text": [
      "📊 Wyniki modelu (log(price)): MLPRegressor\n",
      "R²: -0.1124\n",
      "MAPE: 0.2305\n",
      "Znormalizowany MAE: 0.2257\n",
      "Znormalizowany RMSE: 0.3861\n"
     ]
    }
   ],
   "source": [
    "model_mlp = MLPRegressor(\n",
    "    hidden_layer_sizes=(256, 128, 64), \n",
    "    activation='relu',\n",
    "    solver='adam',\n",
    "    alpha=0.001,\n",
    "    learning_rate_init=0.001,\n",
    "    max_iter=2000,\n",
    "    random_state=42\n",
    ")\n",
    "\n",
    "results_mlp = evaluate_model_log_target(model_mlp, X_train_scaled, y_train, X_test_scaled, y_test)\n"
   ]
  },
  {
   "cell_type": "code",
   "execution_count": 16,
   "metadata": {},
   "outputs": [
    {
     "data": {
      "text/html": [
       "<div>\n",
       "<style scoped>\n",
       "    .dataframe tbody tr th:only-of-type {\n",
       "        vertical-align: middle;\n",
       "    }\n",
       "\n",
       "    .dataframe tbody tr th {\n",
       "        vertical-align: top;\n",
       "    }\n",
       "\n",
       "    .dataframe thead th {\n",
       "        text-align: right;\n",
       "    }\n",
       "</style>\n",
       "<table border=\"1\" class=\"dataframe\">\n",
       "  <thead>\n",
       "    <tr style=\"text-align: right;\">\n",
       "      <th></th>\n",
       "      <th>Model</th>\n",
       "      <th>MAE</th>\n",
       "      <th>RMSE</th>\n",
       "      <th>R2</th>\n",
       "      <th>MAPE</th>\n",
       "    </tr>\n",
       "  </thead>\n",
       "  <tbody>\n",
       "    <tr>\n",
       "      <th>0</th>\n",
       "      <td>GradientBoostingRegressor (log)</td>\n",
       "      <td>0.103801</td>\n",
       "      <td>0.151842</td>\n",
       "      <td>0.827921</td>\n",
       "      <td>0.107479</td>\n",
       "    </tr>\n",
       "    <tr>\n",
       "      <th>1</th>\n",
       "      <td>XGBRegressor (log)</td>\n",
       "      <td>0.104565</td>\n",
       "      <td>0.159156</td>\n",
       "      <td>0.810945</td>\n",
       "      <td>0.108651</td>\n",
       "    </tr>\n",
       "    <tr>\n",
       "      <th>2</th>\n",
       "      <td>SVR (log)</td>\n",
       "      <td>0.122247</td>\n",
       "      <td>0.167142</td>\n",
       "      <td>0.791496</td>\n",
       "      <td>0.133825</td>\n",
       "    </tr>\n",
       "    <tr>\n",
       "      <th>3</th>\n",
       "      <td>RandomForestRegressor (log)</td>\n",
       "      <td>0.110869</td>\n",
       "      <td>0.172390</td>\n",
       "      <td>0.778197</td>\n",
       "      <td>0.115496</td>\n",
       "    </tr>\n",
       "    <tr>\n",
       "      <th>4</th>\n",
       "      <td>KNeighborsRegressor (log)</td>\n",
       "      <td>0.143496</td>\n",
       "      <td>0.190495</td>\n",
       "      <td>0.729161</td>\n",
       "      <td>0.155581</td>\n",
       "    </tr>\n",
       "    <tr>\n",
       "      <th>5</th>\n",
       "      <td>LinearRegression (log)</td>\n",
       "      <td>0.142331</td>\n",
       "      <td>0.217002</td>\n",
       "      <td>0.648546</td>\n",
       "      <td>0.147472</td>\n",
       "    </tr>\n",
       "    <tr>\n",
       "      <th>6</th>\n",
       "      <td>MLPRegressor (log)</td>\n",
       "      <td>0.225703</td>\n",
       "      <td>0.386069</td>\n",
       "      <td>-0.112427</td>\n",
       "      <td>0.230490</td>\n",
       "    </tr>\n",
       "  </tbody>\n",
       "</table>\n",
       "</div>"
      ],
      "text/plain": [
       "                             Model       MAE      RMSE        R2      MAPE\n",
       "0  GradientBoostingRegressor (log)  0.103801  0.151842  0.827921  0.107479\n",
       "1               XGBRegressor (log)  0.104565  0.159156  0.810945  0.108651\n",
       "2                        SVR (log)  0.122247  0.167142  0.791496  0.133825\n",
       "3      RandomForestRegressor (log)  0.110869  0.172390  0.778197  0.115496\n",
       "4        KNeighborsRegressor (log)  0.143496  0.190495  0.729161  0.155581\n",
       "5           LinearRegression (log)  0.142331  0.217002  0.648546  0.147472\n",
       "6               MLPRegressor (log)  0.225703  0.386069 -0.112427  0.230490"
      ]
     },
     "metadata": {},
     "output_type": "display_data"
    }
   ],
   "source": [
    "results_df = pd.DataFrame(results)\n",
    "results_df = results_df.sort_values(\"R2\", ascending=False)\n",
    "results_df.reset_index(drop=True, inplace=True)\n",
    "\n",
    "display(results_df)"
   ]
  }
 ],
 "metadata": {
  "kernelspec": {
   "display_name": "Python 3",
   "language": "python",
   "name": "python3"
  },
  "language_info": {
   "codemirror_mode": {
    "name": "ipython",
    "version": 3
   },
   "file_extension": ".py",
   "mimetype": "text/x-python",
   "name": "python",
   "nbconvert_exporter": "python",
   "pygments_lexer": "ipython3",
   "version": "3.12.0"
  }
 },
 "nbformat": 4,
 "nbformat_minor": 2
}
