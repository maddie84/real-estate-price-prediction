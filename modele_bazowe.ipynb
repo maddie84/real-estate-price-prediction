{
 "cells": [
  {
   "cell_type": "code",
   "execution_count": 65,
   "metadata": {},
   "outputs": [],
   "source": [
    "import numpy as np\n",
    "import pandas as pd\n",
    "import matplotlib.pyplot as plt\n",
    "import seaborn as sns\n",
    "\n",
    "from sklearn.linear_model import LinearRegression\n",
    "from sklearn.ensemble import RandomForestRegressor, GradientBoostingRegressor, StackingRegressor\n",
    "from sklearn.neighbors import KNeighborsRegressor\n",
    "from sklearn.neural_network import MLPRegressor\n",
    "from sklearn.svm import SVR\n",
    "from xgboost import XGBRegressor\n",
    "\n",
    "from sklearn.pipeline import Pipeline\n",
    "from sklearn.preprocessing import StandardScaler\n",
    "\n",
    "from sklearn.model_selection import train_test_split, GridSearchCV, RandomizedSearchCV\n",
    "\n",
    "from sklearn.metrics import (\n",
    "    mean_absolute_error,\n",
    "    mean_squared_error,\n",
    "    r2_score,\n",
    "    mean_absolute_percentage_error,\n",
    "    make_scorer\n",
    ")\n"
   ]
  },
  {
   "cell_type": "code",
   "execution_count": null,
   "metadata": {},
   "outputs": [],
   "source": [
    "data = pd.read_csv(\"katowice.csv\")"
   ]
  },
  {
   "cell_type": "code",
   "execution_count": 67,
   "metadata": {},
   "outputs": [],
   "source": [
    "X = data.drop(columns=[\"price\"])\n",
    "y = data[\"price\"]"
   ]
  },
  {
   "cell_type": "code",
   "execution_count": 69,
   "metadata": {},
   "outputs": [],
   "source": [
    "X_train, X_test, y_train, y_test = train_test_split(\n",
    "    X, y, test_size=0.2, random_state=42\n",
    ")"
   ]
  },
  {
   "cell_type": "code",
   "execution_count": null,
   "metadata": {},
   "outputs": [],
   "source": [
    "results = []"
   ]
  },
  {
   "cell_type": "code",
   "execution_count": null,
   "metadata": {},
   "outputs": [],
   "source": [
    "\n",
    "def evaluate_model(model, X_train, y_train, X_test, y_test):\n",
    "    model.fit(X_train, y_train)\n",
    "    \n",
    "    y_pred = model.predict(X_test)\n",
    "    \n",
    "    mae = mean_absolute_error(y_test, y_pred)\n",
    "    rmse = np.sqrt(mean_squared_error(y_test, y_pred))\n",
    "    r2 = r2_score(y_test, y_pred)\n",
    "    mape = mean_absolute_percentage_error(y_test, y_pred)  # format dziesiętny\n",
    "\n",
    "    mean_price = np.mean(y_test)\n",
    "    mae_norm = mae / mean_price\n",
    "    rmse_norm = rmse / mean_price\n",
    "\n",
    "    print(\"📊 Wyniki modelu:\", model.__class__.__name__)\n",
    "    print(f\"R²: {r2:.4f}\")\n",
    "    print(f\"MAPE: {mape:.4f}\")\n",
    "    print(f\"Znormalizowany MAE: {mae_norm:.4f}\")\n",
    "    print(f\"Znormalizowany RMSE: {rmse_norm:.4f}\")\n",
    "\n",
    "    results.append({\n",
    "    \"Model\": model.__class__.__name__,\n",
    "    \"MAE\": mae_norm,\n",
    "    \"RMSE\": rmse_norm,\n",
    "    \"R2\": r2,\n",
    "    \"MAPE\": mape\n",
    "    })  \n",
    "\n",
    "    return {\n",
    "        \"R2\": r2,\n",
    "        \"MAPE\": mape,\n",
    "        \"MAE_norm\": mae_norm,\n",
    "        \"RMSE_norm\": rmse_norm\n",
    "    }"
   ]
  },
  {
   "cell_type": "code",
   "execution_count": null,
   "metadata": {},
   "outputs": [],
   "source": [
    "\n",
    "def evaluate_model(model, X_train, y_train, X_test, y_test):\n",
    "    model.fit(X_train, y_train)\n",
    "    \n",
    "    y_pred = model.predict(X_test)\n",
    "    \n",
    "    mae = mean_absolute_error(y_test, y_pred)\n",
    "    rmse = np.sqrt(mean_squared_error(y_test, y_pred))\n",
    "    r2 = r2_score(y_test, y_pred)\n",
    "    mape = mean_absolute_percentage_error(y_test, y_pred) \n",
    "\n",
    "    mean_price = np.mean(y_test)\n",
    "    mae_norm = mae / mean_price\n",
    "    rmse_norm = rmse / mean_price\n",
    "\n",
    "    return {\n",
    "        \"R2\": r2,\n",
    "        \"MAPE\": mape,\n",
    "        \"MAE_norm\": mae_norm,\n",
    "        \"RMSE_norm\": rmse_norm\n",
    "    }"
   ]
  },
  {
   "cell_type": "code",
   "execution_count": 71,
   "metadata": {},
   "outputs": [
    {
     "name": "stdout",
     "output_type": "stream",
     "text": [
      "📊 Wyniki modelu: LinearRegression\n",
      "R²: 0.7781\n",
      "MAPE: 0.1443\n",
      "Znormalizowany MAE: 0.1333\n",
      "Znormalizowany RMSE: 0.1724\n"
     ]
    },
    {
     "data": {
      "text/plain": [
       "{'R2': 0.7780982263764588,\n",
       " 'MAPE': 0.14431770359719792,\n",
       " 'MAE_norm': 0.13325237344959057,\n",
       " 'RMSE_norm': 0.17242851651181815}"
      ]
     },
     "execution_count": 71,
     "metadata": {},
     "output_type": "execute_result"
    }
   ],
   "source": [
    "model = LinearRegression()\n",
    "evaluate_model(model, X_train, y_train, X_test, y_test)"
   ]
  },
  {
   "cell_type": "code",
   "execution_count": 72,
   "metadata": {},
   "outputs": [
    {
     "name": "stdout",
     "output_type": "stream",
     "text": [
      "📊 Wyniki modelu: RandomForestRegressor\n",
      "R²: 0.8161\n",
      "MAPE: 0.1174\n",
      "Znormalizowany MAE: 0.1089\n",
      "Znormalizowany RMSE: 0.1570\n"
     ]
    }
   ],
   "source": [
    "model_rf = RandomForestRegressor(random_state=42)\n",
    "results_rf = evaluate_model(model_rf, X_train, y_train, X_test, y_test)"
   ]
  },
  {
   "cell_type": "code",
   "execution_count": 73,
   "metadata": {},
   "outputs": [
    {
     "name": "stdout",
     "output_type": "stream",
     "text": [
      "📊 Wyniki modelu: GradientBoostingRegressor\n",
      "R²: 0.8552\n",
      "MAPE: 0.1058\n",
      "Znormalizowany MAE: 0.1006\n",
      "Znormalizowany RMSE: 0.1393\n"
     ]
    }
   ],
   "source": [
    "model_gb = GradientBoostingRegressor(n_estimators=200, learning_rate=0.1, max_depth=4, random_state=42)\n",
    "results_gb = evaluate_model(model_gb, X_train, y_train, X_test, y_test)"
   ]
  },
  {
   "cell_type": "code",
   "execution_count": 74,
   "metadata": {},
   "outputs": [
    {
     "name": "stdout",
     "output_type": "stream",
     "text": [
      "📊 Wyniki modelu: XGBRegressor\n",
      "R²: 0.8495\n",
      "MAPE: 0.1074\n",
      "Znormalizowany MAE: 0.0989\n",
      "Znormalizowany RMSE: 0.1420\n"
     ]
    }
   ],
   "source": [
    "model_xgb = XGBRegressor(n_estimators=200, learning_rate=0.1, max_depth=6, random_state=42)\n",
    "results_xgb = evaluate_model(model_xgb, X_train, y_train, X_test, y_test)"
   ]
  },
  {
   "cell_type": "code",
   "execution_count": 75,
   "metadata": {},
   "outputs": [
    {
     "name": "stdout",
     "output_type": "stream",
     "text": [
      "📊 Wyniki modelu: KNeighborsRegressor\n",
      "R²: 0.7320\n",
      "MAPE: 0.1598\n",
      "Znormalizowany MAE: 0.1445\n",
      "Znormalizowany RMSE: 0.1895\n"
     ]
    }
   ],
   "source": [
    "model_knn = KNeighborsRegressor()\n",
    "results_knn = evaluate_model(model_knn, X_train, y_train, X_test, y_test)"
   ]
  },
  {
   "cell_type": "code",
   "execution_count": 76,
   "metadata": {},
   "outputs": [],
   "source": [
    "scaler = StandardScaler()\n",
    "X_train_scaled = scaler.fit_transform(X_train)\n",
    "X_test_scaled = scaler.transform(X_test)"
   ]
  },
  {
   "cell_type": "code",
   "execution_count": 77,
   "metadata": {},
   "outputs": [
    {
     "name": "stdout",
     "output_type": "stream",
     "text": [
      "📊 Wyniki modelu: SVR\n",
      "R²: -0.0269\n",
      "MAPE: 0.3129\n",
      "Znormalizowany MAE: 0.2871\n",
      "Znormalizowany RMSE: 0.3709\n"
     ]
    }
   ],
   "source": [
    "svr = SVR(kernel='rbf', C=100, gamma='scale', epsilon=0.1)\n",
    "results_svr = evaluate_model(svr, X_train_scaled, y_train, X_test_scaled, y_test)"
   ]
  },
  {
   "cell_type": "code",
   "execution_count": 78,
   "metadata": {},
   "outputs": [
    {
     "name": "stdout",
     "output_type": "stream",
     "text": [
      "📊 Wyniki modelu: MLPRegressor\n",
      "R²: 0.7723\n",
      "MAPE: 0.1347\n",
      "Znormalizowany MAE: 0.1221\n",
      "Znormalizowany RMSE: 0.1747\n"
     ]
    },
    {
     "name": "stderr",
     "output_type": "stream",
     "text": [
      "c:\\Users\\DELL\\AppData\\Local\\Programs\\Python\\Python312\\Lib\\site-packages\\sklearn\\neural_network\\_multilayer_perceptron.py:690: ConvergenceWarning: Stochastic Optimizer: Maximum iterations (2000) reached and the optimization hasn't converged yet.\n",
      "  warnings.warn(\n"
     ]
    }
   ],
   "source": [
    "model_mlp = MLPRegressor(\n",
    "    hidden_layer_sizes=(256, 128, 64), \n",
    "    activation='relu',\n",
    "    solver='adam',\n",
    "    alpha=0.001,\n",
    "    learning_rate_init=0.001,\n",
    "    max_iter=2000,\n",
    "    random_state=42\n",
    ")\n",
    "\n",
    "results_mlp = evaluate_model(model_mlp, X_train_scaled, y_train, X_test_scaled, y_test)\n"
   ]
  },
  {
   "cell_type": "code",
   "execution_count": 79,
   "metadata": {},
   "outputs": [
    {
     "data": {
      "text/html": [
       "<div>\n",
       "<style scoped>\n",
       "    .dataframe tbody tr th:only-of-type {\n",
       "        vertical-align: middle;\n",
       "    }\n",
       "\n",
       "    .dataframe tbody tr th {\n",
       "        vertical-align: top;\n",
       "    }\n",
       "\n",
       "    .dataframe thead th {\n",
       "        text-align: right;\n",
       "    }\n",
       "</style>\n",
       "<table border=\"1\" class=\"dataframe\">\n",
       "  <thead>\n",
       "    <tr style=\"text-align: right;\">\n",
       "      <th></th>\n",
       "      <th>Model</th>\n",
       "      <th>MAE</th>\n",
       "      <th>RMSE</th>\n",
       "      <th>R2</th>\n",
       "      <th>MAPE</th>\n",
       "    </tr>\n",
       "  </thead>\n",
       "  <tbody>\n",
       "    <tr>\n",
       "      <th>0</th>\n",
       "      <td>GradientBoostingRegressor</td>\n",
       "      <td>0.100567</td>\n",
       "      <td>0.139274</td>\n",
       "      <td>0.855228</td>\n",
       "      <td>0.105818</td>\n",
       "    </tr>\n",
       "    <tr>\n",
       "      <th>1</th>\n",
       "      <td>XGBRegressor</td>\n",
       "      <td>0.098881</td>\n",
       "      <td>0.142000</td>\n",
       "      <td>0.849506</td>\n",
       "      <td>0.107350</td>\n",
       "    </tr>\n",
       "    <tr>\n",
       "      <th>2</th>\n",
       "      <td>RandomForestRegressor</td>\n",
       "      <td>0.108888</td>\n",
       "      <td>0.156982</td>\n",
       "      <td>0.816075</td>\n",
       "      <td>0.117392</td>\n",
       "    </tr>\n",
       "    <tr>\n",
       "      <th>3</th>\n",
       "      <td>LinearRegression</td>\n",
       "      <td>0.133252</td>\n",
       "      <td>0.172429</td>\n",
       "      <td>0.778098</td>\n",
       "      <td>0.144318</td>\n",
       "    </tr>\n",
       "    <tr>\n",
       "      <th>4</th>\n",
       "      <td>MLPRegressor</td>\n",
       "      <td>0.122066</td>\n",
       "      <td>0.174660</td>\n",
       "      <td>0.772318</td>\n",
       "      <td>0.134676</td>\n",
       "    </tr>\n",
       "    <tr>\n",
       "      <th>5</th>\n",
       "      <td>KNeighborsRegressor</td>\n",
       "      <td>0.144534</td>\n",
       "      <td>0.189478</td>\n",
       "      <td>0.732045</td>\n",
       "      <td>0.159824</td>\n",
       "    </tr>\n",
       "    <tr>\n",
       "      <th>6</th>\n",
       "      <td>SVR</td>\n",
       "      <td>0.287101</td>\n",
       "      <td>0.370937</td>\n",
       "      <td>-0.026933</td>\n",
       "      <td>0.312903</td>\n",
       "    </tr>\n",
       "  </tbody>\n",
       "</table>\n",
       "</div>"
      ],
      "text/plain": [
       "                       Model       MAE      RMSE        R2      MAPE\n",
       "0  GradientBoostingRegressor  0.100567  0.139274  0.855228  0.105818\n",
       "1               XGBRegressor  0.098881  0.142000  0.849506  0.107350\n",
       "2      RandomForestRegressor  0.108888  0.156982  0.816075  0.117392\n",
       "3           LinearRegression  0.133252  0.172429  0.778098  0.144318\n",
       "4               MLPRegressor  0.122066  0.174660  0.772318  0.134676\n",
       "5        KNeighborsRegressor  0.144534  0.189478  0.732045  0.159824\n",
       "6                        SVR  0.287101  0.370937 -0.026933  0.312903"
      ]
     },
     "metadata": {},
     "output_type": "display_data"
    }
   ],
   "source": [
    "results_df = pd.DataFrame(results)\n",
    "results_df = results_df.sort_values(\"R2\", ascending=False)\n",
    "results_df.reset_index(drop=True, inplace=True)\n",
    "\n",
    "display(results_df)"
   ]
  }
 ],
 "metadata": {
  "kernelspec": {
   "display_name": "Python 3",
   "language": "python",
   "name": "python3"
  },
  "language_info": {
   "codemirror_mode": {
    "name": "ipython",
    "version": 3
   },
   "file_extension": ".py",
   "mimetype": "text/x-python",
   "name": "python",
   "nbconvert_exporter": "python",
   "pygments_lexer": "ipython3",
   "version": "3.12.0"
  }
 },
 "nbformat": 4,
 "nbformat_minor": 2
}
